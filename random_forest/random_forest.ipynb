{
  "cells": [
    {
      "cell_type": "code",
      "source": [
        "import numpy as np\n",
        "import pandas as pd\n",
        "import sklearn\n",
        "from sklearn import preprocessing\n",
        "from sklearn.metrics import accuracy_score\n",
        "from sklearn.model_selection import train_test_split\n",
        "\n",
        "from sklearn.ensemble import RandomForestClassifier\n",
        "from sklearn.naive_bayes import GaussianNB\n",
        "\n",
        "import matplotlib.pyplot as plt\n",
        "import seaborn as sns"
      ],
      "outputs": [],
      "execution_count": 2,
      "metadata": {
        "trusted": true
      }
    },
    {
      "cell_type": "markdown",
      "source": [
        "# Load the Dataset"
      ],
      "metadata": {}
    },
    {
      "cell_type": "code",
      "source": [
        "!ls"
      ],
      "outputs": [],
      "execution_count": null,
      "metadata": {
        "trusted": true
      }
    },
    {
      "cell_type": "code",
      "source": [
        "data = pd.read_csv('column_3C.dat', header=None, sep=\" \")\n",
        "data.head()"
      ],
      "outputs": [
        {
          "output_type": "execute_result",
          "execution_count": 3,
          "data": {
            "text/html": [
              "<div>\n",
              "<style scoped>\n",
              "    .dataframe tbody tr th:only-of-type {\n",
              "        vertical-align: middle;\n",
              "    }\n",
              "\n",
              "    .dataframe tbody tr th {\n",
              "        vertical-align: top;\n",
              "    }\n",
              "\n",
              "    .dataframe thead th {\n",
              "        text-align: right;\n",
              "    }\n",
              "</style>\n",
              "<table border=\"1\" class=\"dataframe\">\n",
              "  <thead>\n",
              "    <tr style=\"text-align: right;\">\n",
              "      <th></th>\n",
              "      <th>0</th>\n",
              "      <th>1</th>\n",
              "      <th>2</th>\n",
              "      <th>3</th>\n",
              "      <th>4</th>\n",
              "      <th>5</th>\n",
              "      <th>6</th>\n",
              "    </tr>\n",
              "  </thead>\n",
              "  <tbody>\n",
              "    <tr>\n",
              "      <th>0</th>\n",
              "      <td>63.03</td>\n",
              "      <td>22.55</td>\n",
              "      <td>39.61</td>\n",
              "      <td>40.48</td>\n",
              "      <td>98.67</td>\n",
              "      <td>-0.25</td>\n",
              "      <td>DH</td>\n",
              "    </tr>\n",
              "    <tr>\n",
              "      <th>1</th>\n",
              "      <td>39.06</td>\n",
              "      <td>10.06</td>\n",
              "      <td>25.02</td>\n",
              "      <td>29.00</td>\n",
              "      <td>114.41</td>\n",
              "      <td>4.56</td>\n",
              "      <td>DH</td>\n",
              "    </tr>\n",
              "    <tr>\n",
              "      <th>2</th>\n",
              "      <td>68.83</td>\n",
              "      <td>22.22</td>\n",
              "      <td>50.09</td>\n",
              "      <td>46.61</td>\n",
              "      <td>105.99</td>\n",
              "      <td>-3.53</td>\n",
              "      <td>DH</td>\n",
              "    </tr>\n",
              "    <tr>\n",
              "      <th>3</th>\n",
              "      <td>69.30</td>\n",
              "      <td>24.65</td>\n",
              "      <td>44.31</td>\n",
              "      <td>44.64</td>\n",
              "      <td>101.87</td>\n",
              "      <td>11.21</td>\n",
              "      <td>DH</td>\n",
              "    </tr>\n",
              "    <tr>\n",
              "      <th>4</th>\n",
              "      <td>49.71</td>\n",
              "      <td>9.65</td>\n",
              "      <td>28.32</td>\n",
              "      <td>40.06</td>\n",
              "      <td>108.17</td>\n",
              "      <td>7.92</td>\n",
              "      <td>DH</td>\n",
              "    </tr>\n",
              "  </tbody>\n",
              "</table>\n",
              "</div>"
            ],
            "text/plain": [
              "       0      1      2      3       4      5   6\n",
              "0  63.03  22.55  39.61  40.48   98.67  -0.25  DH\n",
              "1  39.06  10.06  25.02  29.00  114.41   4.56  DH\n",
              "2  68.83  22.22  50.09  46.61  105.99  -3.53  DH\n",
              "3  69.30  24.65  44.31  44.64  101.87  11.21  DH\n",
              "4  49.71   9.65  28.32  40.06  108.17   7.92  DH"
            ]
          },
          "metadata": {}
        }
      ],
      "execution_count": 3,
      "metadata": {
        "trusted": true
      }
    },
    {
      "cell_type": "code",
      "source": [
        "X, y = data.iloc[:, :-1], data.iloc[:, -1]"
      ],
      "outputs": [],
      "execution_count": 6,
      "metadata": {
        "trusted": true
      }
    },
    {
      "cell_type": "code",
      "source": [
        "print(X.shape)\n",
        "print(y.shape)"
      ],
      "outputs": [
        {
          "output_type": "stream",
          "name": "stdout",
          "text": [
            "(310, 6)\n",
            "(310,)\n"
          ]
        }
      ],
      "execution_count": 7,
      "metadata": {
        "trusted": true
      }
    },
    {
      "cell_type": "markdown",
      "source": [
        "# Preprocessing of Labels"
      ],
      "metadata": {}
    },
    {
      "cell_type": "code",
      "source": [
        "le = preprocessing.LabelEncoder()\n",
        "le.fit(y)\n",
        "le.classes_"
      ],
      "outputs": [
        {
          "output_type": "execute_result",
          "execution_count": 8,
          "data": {
            "text/plain": [
              "array(['DH', 'NO', 'SL'], dtype=object)"
            ]
          },
          "metadata": {}
        }
      ],
      "execution_count": 8,
      "metadata": {
        "trusted": true
      }
    },
    {
      "cell_type": "code",
      "source": [
        "def randomForest(data, n_estimator, test_percentage=0.2, random_state=42):\n",
        "    train_set, test_set = train_test_split(data, test_size=test_percentage, random_state = random_state)\n",
        "    train_X, train_y = train_set.iloc[:, :-1], train_set.iloc[:, -1]\n",
        "    test_X, test_y = test_set.iloc[:, :-1], test_set.iloc[:, -1]\n",
        "    train_y = le.transform(train_y)\n",
        "    test_y = le.transform(test_y)\n",
        "    \n",
        "    # best parameters selected from assignment 1 to limit the tree\n",
        "    forest = RandomForestClassifier(n_estimators=n_estimator, n_jobs=-1)\n",
        "    \n",
        "    forest.fit(train_X, train_y)\n",
        "    prediction = forest.predict(test_X) \n",
        "    score = accuracy_score(prediction, test_y)\n",
        "    return forest, score"
      ],
      "outputs": [],
      "execution_count": 10,
      "metadata": {
        "trusted": true
      }
    },
    {
      "cell_type": "markdown",
      "source": [
        "# Number of Tree Components (n_estimators)"
      ],
      "metadata": {}
    },
    {
      "cell_type": "code",
      "source": [
        "# 1 to 501 with 1 gap\n",
        "with open('result_n_estimator.csv', 'w+') as f:\n",
        "    for i in range(1, 502, 1):\n",
        "        forest, score = randomForest(data, i)\n",
        "        f.write(','.join([str(i), str(score), '\\n']))"
      ],
      "outputs": [],
      "execution_count": null,
      "metadata": {
        "trusted": true
      }
    },
    {
      "cell_type": "code",
      "source": [
        "# find the best forest predictor in range(1, 21)\n",
        "max_score = 0\n",
        "best_forest = None\n",
        "for i in range(1, 21):\n",
        "    forest, score = randomForest(data, i)\n",
        "    if score > max_score:\n",
        "        best_forest = forest\n",
        "        max_score = score"
      ],
      "outputs": [],
      "execution_count": 11,
      "metadata": {
        "trusted": true
      }
    },
    {
      "cell_type": "code",
      "source": [
        "max_score"
      ],
      "outputs": [
        {
          "output_type": "execute_result",
          "execution_count": 12,
          "data": {
            "text/plain": [
              "0.8709677419354839"
            ]
          },
          "metadata": {}
        }
      ],
      "execution_count": 12,
      "metadata": {
        "trusted": true
      }
    },
    {
      "cell_type": "code",
      "source": [
        "dir(best_forest)"
      ],
      "outputs": [],
      "execution_count": null,
      "metadata": {
        "trusted": true
      }
    },
    {
      "cell_type": "code",
      "source": [
        "len(best_forest.estimators_)"
      ],
      "outputs": [
        {
          "output_type": "execute_result",
          "execution_count": 14,
          "data": {
            "text/plain": [
              "8"
            ]
          },
          "metadata": {}
        }
      ],
      "execution_count": 14,
      "metadata": {
        "trusted": true
      }
    },
    {
      "cell_type": "markdown",
      "source": [
        "# compare the performance of a tree and the forest"
      ],
      "metadata": {}
    },
    {
      "cell_type": "code",
      "source": [
        "train_set, test_set = train_test_split(data, test_size=0.2, random_state = 42)\n",
        "train_X, train_y = train_set.iloc[:, :-1], train_set.iloc[:, -1]\n",
        "test_X, test_y = test_set.iloc[:, :-1], test_set.iloc[:, -1]\n",
        "train_y = le.transform(train_y)\n",
        "test_y = le.transform(test_y)"
      ],
      "outputs": [],
      "execution_count": 15,
      "metadata": {
        "trusted": true
      }
    },
    {
      "cell_type": "code",
      "source": [
        "with open('estimators_score.csv', 'w+') as f:\n",
        "    # output score to csv for later drawing\n",
        "    for estimator in best_forest.estimators_:\n",
        "        prediction = estimator.predict(test_X)\n",
        "        score = accuracy_score(prediction, test_y)\n",
        "        f.write(''.join([str(score), '\\n']))"
      ],
      "outputs": [],
      "execution_count": null,
      "metadata": {
        "trusted": true
      }
    },
    {
      "cell_type": "markdown",
      "source": [
        "# Feature Importance and Contribution"
      ],
      "metadata": {}
    },
    {
      "cell_type": "code",
      "source": [
        "# feature importance of forest\n",
        "best_forest.feature_importances_"
      ],
      "outputs": [],
      "execution_count": null,
      "metadata": {
        "trusted": true
      }
    },
    {
      "cell_type": "code",
      "source": [
        "# feature importances of each decision tree\n",
        "importances = np.array(best_forest.estimators_[0].feature_importances_)\n",
        "for estimator in best_forest.estimators_[1:]:\n",
        "    importances = np.vstack((importances, np.array(estimator.feature_importances_)))\n",
        "\n",
        "importances = np.vstack((importances, best_forest.feature_importances_))\n",
        "ax = sns.heatmap(importances)\n",
        "plt.show()"
      ],
      "outputs": [],
      "execution_count": null,
      "metadata": {
        "trusted": true
      }
    },
    {
      "cell_type": "code",
      "source": [
        "for i in range(8):\n",
        "    x = list(range(6))\n",
        "    plt.ylim((0, 1))\n",
        "    plt.plot(x, importances[i], '.-', color=cmap(0.))\n",
        "    \n",
        "plt.plot(list(range(6)), importances[8], 'o-', color=cmap(1.))\n",
        "cmap = plt.cm.coolwarm\n",
        "custom_lines = [Line2D([0], [0], color=cmap(0.), lw=4),\n",
        "                Line2D([0], [0], color=cmap(1.), lw=4)]\n",
        "plt.legend(custom_lines, ['Decision Trees', 'Random Forest'])\n",
        "plt.show()"
      ],
      "outputs": [],
      "execution_count": null,
      "metadata": {
        "trusted": true
      }
    },
    {
      "cell_type": "markdown",
      "source": [
        "# Naive Bayes Classification Model"
      ],
      "metadata": {}
    },
    {
      "cell_type": "code",
      "source": [
        "gassiannb = GaussianNB()\n",
        "nb = gassiannb.fit(train_X, train_y)\n",
        "prediction = nb.predict(test_X)\n",
        "best_gaussian_score = accuracy_score(prediction, test_y)"
      ],
      "outputs": [],
      "execution_count": 23,
      "metadata": {
        "trusted": true
      }
    },
    {
      "cell_type": "code",
      "source": [
        "best_gaussian_score"
      ],
      "outputs": [
        {
          "output_type": "execute_result",
          "execution_count": 24,
          "data": {
            "text/plain": [
              "0.8709677419354839"
            ]
          },
          "metadata": {}
        }
      ],
      "execution_count": 24,
      "metadata": {
        "trusted": true
      }
    },
    {
      "cell_type": "code",
      "source": [
        "max_score"
      ],
      "outputs": [
        {
          "output_type": "execute_result",
          "execution_count": 26,
          "data": {
            "text/plain": [
              "0.8709677419354839"
            ]
          },
          "metadata": {}
        }
      ],
      "execution_count": 26,
      "metadata": {
        "trusted": true
      }
    }
  ],
  "metadata": {
    "kernelspec": {
      "name": "python36",
      "display_name": "Python 3.6",
      "language": "python"
    },
    "language_info": {
      "mimetype": "text/x-python",
      "nbconvert_exporter": "python",
      "name": "python",
      "pygments_lexer": "ipython3",
      "version": "3.6.6",
      "file_extension": ".py",
      "codemirror_mode": {
        "version": 3,
        "name": "ipython"
      }
    },
    "nteract": {
      "version": "0.12.3"
    }
  },
  "nbformat": 4,
  "nbformat_minor": 1
}