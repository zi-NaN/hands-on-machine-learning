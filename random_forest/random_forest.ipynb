{
  "cells": [
    {
      "metadata": {
        "trusted": true
      },
      "cell_type": "code",
      "source": "import numpy as np\nimport pandas as pd\nimport sklearn\nfrom sklearn import preprocessing\nfrom sklearn.metrics import accuracy_score\nfrom sklearn.model_selection import train_test_split\n\nfrom sklearn.ensemble import RandomForestClassifier\nfrom sklearn.naive_bayes import GaussianNB\n\nimport matplotlib.pyplot as plt\nimport seaborn as sns",
      "execution_count": 2,
      "outputs": []
    },
    {
      "metadata": {},
      "cell_type": "markdown",
      "source": "# load dataset"
    },
    {
      "metadata": {
        "trusted": true
      },
      "cell_type": "code",
      "source": "!ls",
      "execution_count": 76,
      "outputs": [
        {
          "output_type": "stream",
          "text": "column_3C.dat\t      random_forest.ipynb  result_n_estimator.csv\r\nestimators_score.csv  README.md\r\n",
          "name": "stdout"
        }
      ]
    },
    {
      "metadata": {
        "trusted": true
      },
      "cell_type": "code",
      "source": "data = pd.read_csv('column_3C.dat', header=None, sep=\" \")\ndata.head()",
      "execution_count": 3,
      "outputs": [
        {
          "output_type": "execute_result",
          "execution_count": 3,
          "data": {
            "text/html": "<div>\n<style scoped>\n    .dataframe tbody tr th:only-of-type {\n        vertical-align: middle;\n    }\n\n    .dataframe tbody tr th {\n        vertical-align: top;\n    }\n\n    .dataframe thead th {\n        text-align: right;\n    }\n</style>\n<table border=\"1\" class=\"dataframe\">\n  <thead>\n    <tr style=\"text-align: right;\">\n      <th></th>\n      <th>0</th>\n      <th>1</th>\n      <th>2</th>\n      <th>3</th>\n      <th>4</th>\n      <th>5</th>\n      <th>6</th>\n    </tr>\n  </thead>\n  <tbody>\n    <tr>\n      <th>0</th>\n      <td>63.03</td>\n      <td>22.55</td>\n      <td>39.61</td>\n      <td>40.48</td>\n      <td>98.67</td>\n      <td>-0.25</td>\n      <td>DH</td>\n    </tr>\n    <tr>\n      <th>1</th>\n      <td>39.06</td>\n      <td>10.06</td>\n      <td>25.02</td>\n      <td>29.00</td>\n      <td>114.41</td>\n      <td>4.56</td>\n      <td>DH</td>\n    </tr>\n    <tr>\n      <th>2</th>\n      <td>68.83</td>\n      <td>22.22</td>\n      <td>50.09</td>\n      <td>46.61</td>\n      <td>105.99</td>\n      <td>-3.53</td>\n      <td>DH</td>\n    </tr>\n    <tr>\n      <th>3</th>\n      <td>69.30</td>\n      <td>24.65</td>\n      <td>44.31</td>\n      <td>44.64</td>\n      <td>101.87</td>\n      <td>11.21</td>\n      <td>DH</td>\n    </tr>\n    <tr>\n      <th>4</th>\n      <td>49.71</td>\n      <td>9.65</td>\n      <td>28.32</td>\n      <td>40.06</td>\n      <td>108.17</td>\n      <td>7.92</td>\n      <td>DH</td>\n    </tr>\n  </tbody>\n</table>\n</div>",
            "text/plain": "       0      1      2      3       4      5   6\n0  63.03  22.55  39.61  40.48   98.67  -0.25  DH\n1  39.06  10.06  25.02  29.00  114.41   4.56  DH\n2  68.83  22.22  50.09  46.61  105.99  -3.53  DH\n3  69.30  24.65  44.31  44.64  101.87  11.21  DH\n4  49.71   9.65  28.32  40.06  108.17   7.92  DH"
          },
          "metadata": {}
        }
      ]
    },
    {
      "metadata": {
        "trusted": true
      },
      "cell_type": "code",
      "source": "X, y = data.iloc[:, :-1], data.iloc[:, -1]",
      "execution_count": 6,
      "outputs": []
    },
    {
      "metadata": {
        "trusted": true
      },
      "cell_type": "code",
      "source": "print(X.shape)\nprint(y.shape)",
      "execution_count": 7,
      "outputs": [
        {
          "output_type": "stream",
          "text": "(310, 6)\n(310,)\n",
          "name": "stdout"
        }
      ]
    },
    {
      "metadata": {},
      "cell_type": "markdown",
      "source": "# preprocessing of labels"
    },
    {
      "metadata": {
        "trusted": true
      },
      "cell_type": "code",
      "source": "le = preprocessing.LabelEncoder()\nle.fit(y)\nle.classes_",
      "execution_count": 8,
      "outputs": [
        {
          "output_type": "execute_result",
          "execution_count": 8,
          "data": {
            "text/plain": "array(['DH', 'NO', 'SL'], dtype=object)"
          },
          "metadata": {}
        }
      ]
    },
    {
      "metadata": {
        "trusted": true
      },
      "cell_type": "code",
      "source": "def randomForest(data, n_estimator, test_percentage=0.2, random_state=42):\n    train_set, test_set = train_test_split(data, test_size=test_percentage, random_state = random_state)\n    train_X, train_y = train_set.iloc[:, :-1], train_set.iloc[:, -1]\n    test_X, test_y = test_set.iloc[:, :-1], test_set.iloc[:, -1]\n    train_y = le.transform(train_y)\n    test_y = le.transform(test_y)\n    \n    # best parameters selected from assignment 1 to limit the tree\n    forest = RandomForestClassifier(n_estimators=n_estimator, n_jobs=-1)\n    \n    forest.fit(train_X, train_y)\n    prediction = forest.predict(test_X) \n    score = accuracy_score(prediction, test_y)\n    return forest, score",
      "execution_count": 10,
      "outputs": []
    },
    {
      "metadata": {},
      "cell_type": "markdown",
      "source": "# number of tree components (n_estimators)"
    },
    {
      "metadata": {
        "trusted": true
      },
      "cell_type": "code",
      "source": "# 1 to 501 with 1 gap\nwith open('result_n_estimator.csv', 'w+') as f:\n    for i in range(1, 502, 1):\n        forest, score = randomForest(data, i)\n        f.write(','.join([str(i), str(score), '\\n']))",
      "execution_count": null,
      "outputs": []
    },
    {
      "metadata": {
        "trusted": true
      },
      "cell_type": "code",
      "source": "# find the best forest predictor in range(1, 21)\nmax_score = 0\nbest_forest = None\nfor i in range(1, 21):\n    forest, score = randomForest(data, i)\n    if score > max_score:\n        best_forest = forest\n        max_score = score",
      "execution_count": 11,
      "outputs": []
    },
    {
      "metadata": {
        "trusted": true
      },
      "cell_type": "code",
      "source": "max_score",
      "execution_count": 12,
      "outputs": [
        {
          "output_type": "execute_result",
          "execution_count": 12,
          "data": {
            "text/plain": "0.8709677419354839"
          },
          "metadata": {}
        }
      ]
    },
    {
      "metadata": {
        "trusted": true
      },
      "cell_type": "code",
      "source": "dir(best_forest)",
      "execution_count": 13,
      "outputs": [
        {
          "output_type": "execute_result",
          "execution_count": 13,
          "data": {
            "text/plain": "['__abstractmethods__',\n '__class__',\n '__delattr__',\n '__dict__',\n '__dir__',\n '__doc__',\n '__eq__',\n '__format__',\n '__ge__',\n '__getattribute__',\n '__getitem__',\n '__getstate__',\n '__gt__',\n '__hash__',\n '__init__',\n '__init_subclass__',\n '__iter__',\n '__le__',\n '__len__',\n '__lt__',\n '__module__',\n '__ne__',\n '__new__',\n '__reduce__',\n '__reduce_ex__',\n '__repr__',\n '__setattr__',\n '__setstate__',\n '__sizeof__',\n '__str__',\n '__subclasshook__',\n '__weakref__',\n '_abc_cache',\n '_abc_negative_cache',\n '_abc_negative_cache_version',\n '_abc_registry',\n '_estimator_type',\n '_get_param_names',\n '_make_estimator',\n '_set_oob_score',\n '_validate_X_predict',\n '_validate_estimator',\n '_validate_y_class_weight',\n 'apply',\n 'base_estimator',\n 'base_estimator_',\n 'bootstrap',\n 'class_weight',\n 'classes_',\n 'criterion',\n 'decision_path',\n 'estimator_params',\n 'estimators_',\n 'feature_importances_',\n 'fit',\n 'get_params',\n 'max_depth',\n 'max_features',\n 'max_leaf_nodes',\n 'min_impurity_decrease',\n 'min_impurity_split',\n 'min_samples_leaf',\n 'min_samples_split',\n 'min_weight_fraction_leaf',\n 'n_classes_',\n 'n_estimators',\n 'n_features_',\n 'n_jobs',\n 'n_outputs_',\n 'oob_score',\n 'predict',\n 'predict_log_proba',\n 'predict_proba',\n 'random_state',\n 'score',\n 'set_params',\n 'verbose',\n 'warm_start']"
          },
          "metadata": {}
        }
      ]
    },
    {
      "metadata": {
        "trusted": true
      },
      "cell_type": "code",
      "source": "len(best_forest.estimators_)",
      "execution_count": 14,
      "outputs": [
        {
          "output_type": "execute_result",
          "execution_count": 14,
          "data": {
            "text/plain": "8"
          },
          "metadata": {}
        }
      ]
    },
    {
      "metadata": {},
      "cell_type": "markdown",
      "source": "# compare the performance of a tree and the forest"
    },
    {
      "metadata": {
        "trusted": true
      },
      "cell_type": "code",
      "source": "train_set, test_set = train_test_split(data, test_size=0.2, random_state = 42)\ntrain_X, train_y = train_set.iloc[:, :-1], train_set.iloc[:, -1]\ntest_X, test_y = test_set.iloc[:, :-1], test_set.iloc[:, -1]\ntrain_y = le.transform(train_y)\ntest_y = le.transform(test_y)",
      "execution_count": 15,
      "outputs": []
    },
    {
      "metadata": {
        "trusted": true
      },
      "cell_type": "code",
      "source": "with open('estimators_score.csv', 'w+') as f:\n    for estimator in best_forest.estimators_:\n        prediction = estimator.predict(test_X)\n        score = accuracy_score(prediction, test_y)\n        f.write(''.join([str(score), '\\n']))",
      "execution_count": null,
      "outputs": []
    },
    {
      "metadata": {},
      "cell_type": "markdown",
      "source": "# feature importance and contribution"
    },
    {
      "metadata": {
        "trusted": true
      },
      "cell_type": "code",
      "source": "# feature importance of forest\nbest_forest.feature_importances_",
      "execution_count": null,
      "outputs": []
    },
    {
      "metadata": {
        "trusted": true
      },
      "cell_type": "code",
      "source": "# feature importances of each decision tree\nimportances = np.array(best_forest.estimators_[0].feature_importances_)\nfor estimator in best_forest.estimators_[1:]:\n    importances = np.vstack((importances, np.array(estimator.feature_importances_)))\n\nimportances = np.vstack((importances, best_forest.feature_importances_))\nax = sns.heatmap(importances)\nplt.show()\n\n'''\nhow to interprete the contribution of trees to teh overall classification performance?? \n'''",
      "execution_count": null,
      "outputs": []
    },
    {
      "metadata": {
        "trusted": true
      },
      "cell_type": "code",
      "source": "for i in range(8):\n    x = list(range(6))\n    plt.ylim((0, 1))\n    plt.plot(x, importances[i], '.-', color=cmap(0.))\n    \nplt.plot(list(range(6)), importances[8], 'o-', color=cmap(1.))\ncmap = plt.cm.coolwarm\ncustom_lines = [Line2D([0], [0], color=cmap(0.), lw=4),\n                Line2D([0], [0], color=cmap(1.), lw=4)]\nplt.legend(custom_lines, ['Decision Trees', 'Random Forest'])\nplt.show()",
      "execution_count": null,
      "outputs": []
    },
    {
      "metadata": {},
      "cell_type": "markdown",
      "source": "# bayes classification model"
    },
    {
      "metadata": {
        "trusted": true
      },
      "cell_type": "code",
      "source": "gassiannb = GaussianNB()\nnb = gassiannb.fit(train_X, train_y)\nprediction = nb.predict(test_X)\nbest_gaussian_score = accuracy_score(prediction, test_y)",
      "execution_count": 23,
      "outputs": []
    },
    {
      "metadata": {
        "trusted": true
      },
      "cell_type": "code",
      "source": "best_gaussian_score",
      "execution_count": 24,
      "outputs": [
        {
          "output_type": "execute_result",
          "execution_count": 24,
          "data": {
            "text/plain": "0.8709677419354839"
          },
          "metadata": {}
        }
      ]
    },
    {
      "metadata": {
        "trusted": true
      },
      "cell_type": "code",
      "source": "max_score",
      "execution_count": 26,
      "outputs": [
        {
          "output_type": "execute_result",
          "execution_count": 26,
          "data": {
            "text/plain": "0.8709677419354839"
          },
          "metadata": {}
        }
      ]
    }
  ],
  "metadata": {
    "kernelspec": {
      "name": "python36",
      "display_name": "Python 3.6",
      "language": "python"
    },
    "language_info": {
      "mimetype": "text/x-python",
      "nbconvert_exporter": "python",
      "name": "python",
      "pygments_lexer": "ipython3",
      "version": "3.6.6",
      "file_extension": ".py",
      "codemirror_mode": {
        "version": 3,
        "name": "ipython"
      }
    }
  },
  "nbformat": 4,
  "nbformat_minor": 1
}